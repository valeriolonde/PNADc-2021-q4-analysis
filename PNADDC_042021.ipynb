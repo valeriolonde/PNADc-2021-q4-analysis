{
 "cells": [
  {
   "attachments": {},
   "cell_type": "markdown",
   "metadata": {},
   "source": [
    "# Tarefa 1 \n",
    "\n",
    " Os dados da PNADc referentes ao quarto trimestre de 2021 estarão disponíveis em:\n",
    " \n",
    "  [IBGE - Pesquisa Nacional por Amostra de Domicílios Contínua Trimestral](https://www.ibge.gov.br/estatisticas/sociais/trabalho/9173-pesquisa-nacional-por-amostra-de-domicilios-continua-trimestral.html?edicao=20653&t=downloads)"
   ]
  },
  {
   "cell_type": "code",
   "execution_count": 3,
   "metadata": {},
   "outputs": [],
   "source": [
    "# Importando pacotes que irei utilizar\n",
    "\n",
    "import pandas as pd\n",
    "import numpy as np\n",
    "from pathlib import Path"
   ]
  },
  {
   "attachments": {},
   "cell_type": "markdown",
   "metadata": {},
   "source": [
    "Definindo caminhos relativos no caminho do dicionário -- 4°tri de 2021 que está em formato xls"
   ]
  },
  {
   "cell_type": "code",
   "execution_count": 4,
   "metadata": {},
   "outputs": [],
   "source": [
    "# Define o caminho base\n",
    "base_path = Path.cwd()\n",
    "\n",
    "# Define o caminho relativo para a pasta de dados\n",
    "data_folder = base_path / \"Dados\"\n",
    "\n",
    "# Define o caminho relativo para o arquivo de dicionário\n",
    "dictionary_path = data_folder / \"Dicionario.xls\"\n",
    "\n",
    "# Lê o arquivo de dicionário básico PNAD contínua\n",
    "dicionario = pd.read_excel(dictionary_path, skiprows=1)\n"
   ]
  },
  {
   "attachments": {},
   "cell_type": "markdown",
   "metadata": {},
   "source": [
    "# Tarefa 02\n",
    "\n",
    "Os arquivos FWF possuem um formato de leitura pouco intuitivo, tornando praticamente inviável a extração de informações a partir da simples visualização dos mesmos. O Pandas não tem a capacidade de determinar o tamanho das colunas automaticamente, resultando na geração de um DataFrame confuso. Para solucionar essa questão, podemos utilizar o parâmetro \"widths\", que requer uma lista de números inteiros indicando o tamanho esperado de cada coluna. Faremos isso aliado a função read_fwl do PANDAS para importar os dados em um formato amigável. "
   ]
  },
  {
   "cell_type": "code",
   "execution_count": 5,
   "metadata": {},
   "outputs": [
    {
     "name": "stdout",
     "output_type": "stream",
     "text": [
      "         Ano Trimestre  UF Capital RM_RIDE        UPA  Estrato V1008 V1014  \\\n",
      "0       2021         4  11      11     NaN  110000016  1110011    01    09   \n",
      "1       2021         4  11      11     NaN  110000016  1110011    01    09   \n",
      "2       2021         4  11      11     NaN  110000016  1110011    01    09   \n",
      "3       2021         4  11      11     NaN  110000016  1110011    01    09   \n",
      "4       2021         4  11      11     NaN  110000016  1110011    01    09   \n",
      "...      ...       ...  ..     ...     ...        ...      ...   ...   ...   \n",
      "461790  2021         4  53      53     NaN  530059517  5310211    11    09   \n",
      "461791  2021         4  53      53     NaN  530059517  5310211    14    09   \n",
      "461792  2021         4  53      53     NaN  530059517  5310211    14    09   \n",
      "461793  2021         4  53      53     NaN  530059517  5310211    14    09   \n",
      "461794  2021         4  53      53     NaN  530059517  5310211    14    09   \n",
      "\n",
      "       V1016  ...         V1028191         V1028192         V1028193  \\\n",
      "0          2  ...  000123.32203203  000000.00000000  000000.00000000   \n",
      "1          2  ...  000123.32203203  000000.00000000  000000.00000000   \n",
      "2          2  ...  000123.32203203  000000.00000000  000000.00000000   \n",
      "3          2  ...  000123.32203203  000000.00000000  000000.00000000   \n",
      "4          2  ...  000123.32203203  000000.00000000  000000.00000000   \n",
      "...      ...  ...              ...              ...              ...   \n",
      "461790     1  ...  000000.00000000  000446.27982676  000389.64134522   \n",
      "461791     1  ...  000000.00000000  000433.58285571  000388.58783187   \n",
      "461792     1  ...  000000.00000000  000433.58285571  000388.58783187   \n",
      "461793     1  ...  000000.00000000  000433.58285571  000388.58783187   \n",
      "461794     1  ...  000000.00000000  000433.58285571  000388.58783187   \n",
      "\n",
      "               V1028194         V1028195         V1028196         V1028197  \\\n",
      "0       000000.00000000  000000.00000000  000128.81247481  000000.00000000   \n",
      "1       000000.00000000  000000.00000000  000128.81247481  000000.00000000   \n",
      "2       000000.00000000  000000.00000000  000128.81247481  000000.00000000   \n",
      "3       000000.00000000  000000.00000000  000128.81247481  000000.00000000   \n",
      "4       000000.00000000  000000.00000000  000128.81247481  000000.00000000   \n",
      "...                 ...              ...              ...              ...   \n",
      "461790  000455.17252196  000414.83616642  000000.00000000  000419.14591922   \n",
      "461791  000434.01586504  000399.90265461  000000.00000000  000408.47134368   \n",
      "461792  000434.01586504  000399.90265461  000000.00000000  000408.47134368   \n",
      "461793  000434.01586504  000399.90265461  000000.00000000  000408.47134368   \n",
      "461794  000434.01586504  000399.90265461  000000.00000000  000408.47134368   \n",
      "\n",
      "               V1028198         V1028199         V1028200  \n",
      "0       000000.00000000  000136.85093726  000000.00000000  \n",
      "1       000000.00000000  000136.85093726  000000.00000000  \n",
      "2       000000.00000000  000136.85093726  000000.00000000  \n",
      "3       000000.00000000  000136.85093726  000000.00000000  \n",
      "4       000000.00000000  000136.85093726  000000.00000000  \n",
      "...                 ...              ...              ...  \n",
      "461790  001306.10429085  000000.00000000  000000.00000000  \n",
      "461791  001268.15087244  000000.00000000  000000.00000000  \n",
      "461792  001268.15087244  000000.00000000  000000.00000000  \n",
      "461793  001268.15087244  000000.00000000  000000.00000000  \n",
      "461794  001268.15087244  000000.00000000  000000.00000000  \n",
      "\n",
      "[461795 rows x 420 columns]\n"
     ]
    }
   ],
   "source": [
    "# Selecionando a variável tamanho do dicionário e excluindo os NA, depois transformando em inteiros, em seguida transformando numa lista.\n",
    "tamanho_sem_na = dicionario['Tamanho'].dropna().astype(int).tolist()\n",
    "\n",
    "## Definindo caminho relativo de dados da PNAD\n",
    "pnad_path = data_folder / \"PNADC_042021.txt\"\n",
    "\n",
    "## Importando os dados da PNAD.\n",
    "pnad2021 = pd.read_fwf(pnad_path, header = None, widths=tamanho_sem_na, \n",
    "                       dtype=str, float_format=\"%.2f\")\n",
    "\n",
    "## pegando o código da variável no dicionário e excluindo os Na's\n",
    "codigo = dicionario['Código\\nda\\nvariável'].dropna()     \n",
    "\n",
    "## Colocando o código da variável como nome da coluna\n",
    "pnad2021 = pnad2021.rename(columns=dict(zip(pnad2021.columns, codigo)))\n",
    "\n",
    "# Printando a pnad2021\n",
    "print(pnad2021)\n"
   ]
  },
  {
   "attachments": {},
   "cell_type": "markdown",
   "metadata": {},
   "source": [
    "Agora, vou realizar uma estimativa amostral do número de pessoas em cada unidade federativa, levando em consideração os pesos amostrais. A variável V1028 é o peso amostral na PNADc. O resultado final abaixo é a estimativa amostral da população por unidade federativa. "
   ]
  },
  {
   "cell_type": "code",
   "execution_count": 6,
   "metadata": {},
   "outputs": [
    {
     "name": "stdout",
     "output_type": "stream",
     "text": [
      "    UF   população\n",
      "0   RO   1811173.0\n",
      "1   AC    894396.0\n",
      "2   AM   4125630.0\n",
      "3   RR    578207.0\n",
      "4   PA   8766892.0\n",
      "5   AP    874822.0\n",
      "6   TO   1600098.0\n",
      "7   MA   7131998.0\n",
      "8   PI   3291002.0\n",
      "9   CE   9256370.0\n",
      "10  RN   3570927.0\n",
      "11  PB   4044899.0\n",
      "12  PE   9637284.0\n",
      "13  AL   3363296.0\n",
      "14  SE   2345379.0\n",
      "15  BA  14983546.0\n",
      "16  MG  21442564.0\n",
      "17  ES   4120396.0\n",
      "18  RJ  17494589.0\n",
      "19  SP  46770241.0\n",
      "20  PR  11612238.0\n",
      "21  SC   7356905.0\n",
      "22  RS  11462947.0\n",
      "23  MS   2778362.0\n",
      "24  MT   3526243.0\n",
      "25  GO   7242075.0\n",
      "26  DF   3105838.0\n"
     ]
    }
   ],
   "source": [
    "## Covertendno 'V1028' em float. V1028 é o peso \n",
    "pnad2021['V1028'] = pnad2021['V1028'].astype(float)\n",
    "\n",
    "# Agrupar os dados por UF e somar os valores de V1028 correspondentes\n",
    "soma_v1028_uf = pnad2021.groupby('UF')['V1028'].sum()\n",
    "\n",
    "# Convertendo a série em um data frame e renomeando a coluna\n",
    "pop_total = soma_v1028_uf.to_frame(name='população').reset_index().\\\n",
    "    rename(columns={'index': 'UF'})\n",
    "\n",
    "# criar um dicionário de mapeamento com as chaves em formato de strings\n",
    "uf_map = {\n",
    "    '11': 'RO',\n",
    "    '12': 'AC',\n",
    "    '13': 'AM',\n",
    "    '14': 'RR',\n",
    "    '15': 'PA',\n",
    "    '16': 'AP',\n",
    "    '17': 'TO',\n",
    "    '21': 'MA',\n",
    "    '22': 'PI',\n",
    "    '23': 'CE',\n",
    "    '24': 'RN',\n",
    "    '25': 'PB',\n",
    "    '26': 'PE',\n",
    "    '27': 'AL',\n",
    "    '28': 'SE',\n",
    "    '29': 'BA',\n",
    "    '31': 'MG',\n",
    "    '32': 'ES',\n",
    "    '33': 'RJ',\n",
    "    '35': 'SP',\n",
    "    '41': 'PR',\n",
    "    '42': 'SC',\n",
    "    '43': 'RS',\n",
    "    '50': 'MS',\n",
    "    '51': 'MT',\n",
    "    '52': 'GO',\n",
    "    '53': 'DF'\n",
    "}\n",
    "\n",
    "# Aplicando o mapeamento à coluna UF\n",
    "pop_total['UF'] = pop_total['UF'].map(uf_map)\n",
    "\n",
    "## arredondando os números de população e também tirando o 0.\n",
    "pop_total['população'] = pop_total['população'].round(2).apply(lambda x: x[1:] if str(x).startswith('0') else x)\n",
    "\n",
    "## Printando a população total estimada  \n",
    "print(pop_total)\n"
   ]
  },
  {
   "attachments": {},
   "cell_type": "markdown",
   "metadata": {},
   "source": [
    "Agora farei uma estimativa amostral de domicilios por unidade federativa utilizando o peso amostral. O resultado final abaixo é a estimativa amostral de domicílios por unidade federativa.  "
   ]
  },
  {
   "cell_type": "code",
   "execution_count": 7,
   "metadata": {},
   "outputs": [
    {
     "name": "stdout",
     "output_type": "stream",
     "text": [
      "    UF        V1028\n",
      "0   RO    628164.21\n",
      "1   AC    269118.41\n",
      "2   AM   1102468.67\n",
      "3   RR    166456.45\n",
      "4   PA   2586373.98\n",
      "5   AP    246154.85\n",
      "6   TO    524667.75\n",
      "7   MA   2082838.89\n",
      "8   PI   1025685.34\n",
      "9   CE   3016222.18\n",
      "10  RN   1167102.77\n",
      "11  PB   1316365.69\n",
      "12  PE   3231419.25\n",
      "13  AL   1075138.15\n",
      "14  SE    796790.00\n",
      "15  BA   5156899.65\n",
      "16  MG   7527204.85\n",
      "17  ES   1462988.08\n",
      "18  RJ   6546788.99\n",
      "19  SP  16342583.68\n",
      "20  PR   4066076.55\n",
      "21  SC   2580998.51\n",
      "22  RS   4337210.43\n",
      "23  MS    950550.40\n",
      "24  MT   1179946.31\n",
      "25  GO   2496430.74\n",
      "26  DF   1017831.68\n"
     ]
    }
   ],
   "source": [
    "## filtrando para para o chefe do domicílio. Para descobrir a quantidade de domicílios\n",
    "domic_uf = pnad2021.query('V2005 == \"01\"').groupby('UF')['V1028'].sum()\n",
    "\n",
    "##transformadno em data frame \n",
    "dom_total = domic_uf.to_frame().reset_index().rename(columns={'index': 'UF', 0: 'domic_uf'})\n",
    "\n",
    "# Aplicando o mapeamento à coluna UF\n",
    "dom_total['UF'] = dom_total['UF'].map(uf_map)\n",
    "\n",
    "## arredondando os números de população e também tirando o 0.\n",
    "dom_total['V1028'] = dom_total['V1028'].round(2).apply(lambda x: x[1:] if str(x).startswith('0') else x)\n",
    "\n",
    "## Printando domicilio total estimado \n",
    "print(dom_total)\n"
   ]
  },
  {
   "attachments": {},
   "cell_type": "markdown",
   "metadata": {},
   "source": [
    "# Tarefa 3\n",
    "\n",
    "Agora irei fazer algumas manipulações e limpeza de dados com o foco em fazer uma regressão linear do rendimento efetivo do trabalho vs escolaridade, idade e Sexo."
   ]
  },
  {
   "cell_type": "code",
   "execution_count": 14,
   "metadata": {},
   "outputs": [
    {
     "name": "stdout",
     "output_type": "stream",
     "text": [
      "        idade  Escolaridade  Rendimento efetivo do trabalho  Sexo_2\n",
      "0          37          12.0                          1194.0       1\n",
      "1          42           6.0                          2000.0       0\n",
      "2          18          11.0                          1100.0       1\n",
      "3          16           8.0                             NaN       0\n",
      "4          15           7.0                             NaN       0\n",
      "...       ...           ...                             ...     ...\n",
      "461790     25          12.0                          1100.0       0\n",
      "461791     50           4.0                             NaN       1\n",
      "461792     51           9.0                          2300.0       0\n",
      "461793     21          12.0                          1100.0       1\n",
      "461794      9           3.0                             NaN       1\n",
      "\n",
      "[461795 rows x 4 columns]\n"
     ]
    }
   ],
   "source": [
    "\n",
    "## Selecionando as variáveis de interesse que usarei no exercício\n",
    "pessoas_e_dom  = pd.DataFrame(pnad2021[['V2009', 'VD3005',\n",
    "                        'V2007', 'VD4020']])\n",
    "\n",
    "labels = {\n",
    "    'V2009':'idade' , \n",
    "    'VD3005': 'Escolaridade', \n",
    "    'V2007': 'Sexo',\n",
    "    'VD4020': 'Rendimento efetivo do trabalho'\n",
    "}\n",
    "\n",
    "## Colocando os labels \n",
    "pessoas_e_dom = pessoas_e_dom.rename(columns = labels)\n",
    "\n",
    "# Passando os meus dados para numérico para poder fazer estatísticasdescritivas e econometria \n",
    "pessoas_e_dom = pessoas_e_dom.apply(pd.to_numeric)\n",
    "\n",
    "# Fazendo uma dummy de Sexo \n",
    "dummy_sexo = pd.get_dummies(pessoas_e_dom.Sexo, prefix='Sexo', drop_first=True)\n",
    "\n",
    "# Juntando a variável dummy ao DataFrame original e deletando Sexo\n",
    "pessoas_e_dom_2 = pd.concat([pessoas_e_dom, dummy_sexo], axis=1).drop('Sexo', axis=1)\n",
    "\n",
    "# printando minha base de dados\n",
    "print(pessoas_e_dom_2)\n",
    "\n",
    "## Tenho vários valores nulos na minha Escolaridade. Irei transformar para 0.\n",
    "pessoas_e_dom_2['Escolaridade'].fillna(0, inplace=True)\n",
    "\n",
    "## Deletando os NaN de Rendimento efetivo do trabalho\n",
    "pessoas_e_dom_2 = pessoas_e_dom_2.dropna(axis=0) ## na linha \n",
    "\n"
   ]
  },
  {
   "attachments": {},
   "cell_type": "markdown",
   "metadata": {},
   "source": [
    "O código abaixo está realizando uma análise de regressão linear múltipla para avaliar a relação entre o rendimento efetivo do trabalho (variável resposta) e as variáveis escolaridade, idade e sexo (variáveis explicativas).\n",
    "\n",
    "O modelo de regressão utilizado é da forma $Y = \\beta_0 + \\beta_1X_1 + \\beta_2X_2 + \\beta_3X_3 + \\varepsilon$, onde $Y$ é o rendimento efetivo do trabalho, $X_1$ é a escolaridade, $X_2$ é a idade e $X_3$ é a variável dummy de sexo (onde Sexo_2 = 1 para o sexo feminino e 0 para o sexo masculino).\n",
    "\n",
    "O resultado apresenta um modelo de regressão linear múltipla com a variável dependente \"Rendimento efetivo do trabalho\" e três variáveis independentes: \"Escolaridade\", \"idade\" e \"Sexo_2\" (sendo Sexo_2 uma variável dummy que indica o sexo masculino). O coeficiente de determinação ($R^2$) indica que o modelo explica apenas 13.8% da variação na variável dependente. Os coeficientes estimados indicam que um aumento de 1 ano na escolaridade está associado a um aumento de 305.37 reais no rendimento efetivo do trabalho, um aumento de uma unidade na idade está associado a um aumento de R$53.90 no rendimento efetivo do trabalho e ser do sexo feminino (comparado ao sexo masculino) está associado a uma redução de 908.35 reais no rendimento efetivo do trabalho. \n",
    "\n",
    "Os coeficientes das variáveis explicativas do modelo ajustado com covariância robusta são significantes ao nível de significância de 5%. Portanto, a escolaridade, a idade e o sexo do trabalhador apresentam impactos significativos no rendimento efetivo do trabalho.\n",
    "\n",
    "Além disso, é importante destacar que, ao usar covariância robusta, os erros padrões dos coeficientes de regressão são ajustados para possíveis heterocedasticidades presentes nos dados. Isso garante maior robustez dos resultados em relação à suposição de homocedasticidade dos erros do modelo original.\n"
   ]
  },
  {
   "cell_type": "code",
   "execution_count": 17,
   "metadata": {},
   "outputs": [
    {
     "name": "stdout",
     "output_type": "stream",
     "text": [
      "                                  OLS Regression Results                                  \n",
      "==========================================================================================\n",
      "Dep. Variable:     Rendimento efetivo do trabalho   R-squared:                       0.138\n",
      "Model:                                        OLS   Adj. R-squared:                  0.138\n",
      "Method:                             Least Squares   F-statistic:                     4868.\n",
      "Date:                            Fri, 05 May 2023   Prob (F-statistic):               0.00\n",
      "Time:                                    17:49:58   Log-Likelihood:            -1.7789e+06\n",
      "No. Observations:                          187182   AIC:                         3.558e+06\n",
      "Df Residuals:                              187178   BIC:                         3.558e+06\n",
      "Df Model:                                       3                                         \n",
      "Covariance Type:                              HC3                                         \n",
      "================================================================================\n",
      "                   coef    std err          z      P>|z|      [0.025      0.975]\n",
      "--------------------------------------------------------------------------------\n",
      "const        -2779.7233     42.456    -65.473      0.000   -2862.936   -2696.511\n",
      "Escolaridade   305.3689      2.540    120.227      0.000     300.391     310.347\n",
      "idade           53.8951      0.697     77.272      0.000      52.528      55.262\n",
      "Sexo_2        -908.3474     16.218    -56.008      0.000    -940.134    -876.561\n",
      "==============================================================================\n",
      "Omnibus:                   322730.399   Durbin-Watson:                   1.622\n",
      "Prob(Omnibus):                  0.000   Jarque-Bera (JB):        911397729.679\n",
      "Skew:                          11.675   Prob(JB):                         0.00\n",
      "Kurtosis:                     344.045   Cond. No.                         205.\n",
      "==============================================================================\n",
      "\n",
      "Notes:\n",
      "[1] Standard Errors are heteroscedasticity robust (HC3)\n"
     ]
    }
   ],
   "source": [
    "import statsmodels.api as sm\n",
    "\n",
    "# Definir as variáveis explicativas e a variável resposta\n",
    "y = pessoas_e_dom_2['Rendimento efetivo do trabalho']\n",
    "X = pessoas_e_dom_2[['Escolaridade', 'idade', 'Sexo_2']]\n",
    "\n",
    "# Ajustar o modelo de regressão com covariância robusta\n",
    "modelo = sm.OLS(y, sm.add_constant(X)).fit(cov_type='HC3')\n",
    "\n",
    "# Imprimir o sumário do modelo\n",
    "print(modelo.summary())"
   ]
  }
 ],
 "metadata": {
  "kernelspec": {
   "display_name": "Python 3",
   "language": "python",
   "name": "python3"
  },
  "language_info": {
   "codemirror_mode": {
    "name": "ipython",
    "version": 3
   },
   "file_extension": ".py",
   "mimetype": "text/x-python",
   "name": "python",
   "nbconvert_exporter": "python",
   "pygments_lexer": "ipython3",
   "version": "3.11.0"
  },
  "orig_nbformat": 4
 },
 "nbformat": 4,
 "nbformat_minor": 2
}
