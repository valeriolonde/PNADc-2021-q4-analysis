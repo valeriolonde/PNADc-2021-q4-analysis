{
 "cells": [
  {
   "attachments": {},
   "cell_type": "markdown",
   "metadata": {},
   "source": [
    "# Tarefa 1 \n",
    "\n",
    " Os dados da PNADc referentes ao quarto trimestre de 2021 estarão disponíveis em:\n",
    " \n",
    "  [IBGE - Pesquisa Nacional por Amostra de Domicílios Contínua Trimestral](https://www.ibge.gov.br/estatisticas/sociais/trabalho/9173-pesquisa-nacional-por-amostra-de-domicilios-continua-trimestral.html?edicao=20653&t=downloads)"
   ]
  },
  {
   "cell_type": "code",
   "execution_count": 35,
   "metadata": {},
   "outputs": [],
   "source": [
    "# Importando pacotes que irei utilizar\n",
    "\n",
    "import pandas as pd\n",
    "import numpy as np\n",
    "from pathlib import Path"
   ]
  },
  {
   "attachments": {},
   "cell_type": "markdown",
   "metadata": {},
   "source": [
    "Definindo caminhos relativos no caminho do dicionário -- 4°tri de 2021 que está em formato xls"
   ]
  },
  {
   "cell_type": "code",
   "execution_count": 36,
   "metadata": {},
   "outputs": [],
   "source": [
    "# Define o caminho base\n",
    "base_path = Path.cwd()\n",
    "\n",
    "# Define o caminho relativo para a pasta de dados\n",
    "data_folder = base_path / \"Dados\"\n",
    "\n",
    "# Define o caminho relativo para o arquivo de dicionário\n",
    "dictionary_path = data_folder / \"Dicionario.xls\"\n",
    "\n",
    "# Lê o arquivo de dicionário básico PNAD contínua\n",
    "dicionario = pd.read_excel(dictionary_path, skiprows=1)\n"
   ]
  },
  {
   "attachments": {},
   "cell_type": "markdown",
   "metadata": {},
   "source": [
    "# Tarefa 02\n",
    "\n",
    "Os arquivos FWF possuem um formato de leitura pouco intuitivo, tornando praticamente inviável a extração de informações a partir da simples visualização dos mesmos. O Pandas não tem a capacidade de determinar o tamanho das colunas automaticamente, resultando na geração de um DataFrame confuso. Para solucionar essa questão, podemos utilizar o parâmetro \"widths\", que requer uma lista de números inteiros indicando o tamanho esperado de cada coluna. Faremos isso aliado a função read_fwl do PANDAS para importar os dados em um formato amigável. "
   ]
  },
  {
   "cell_type": "code",
   "execution_count": 37,
   "metadata": {},
   "outputs": [
    {
     "name": "stdout",
     "output_type": "stream",
     "text": [
      "         Ano Trimestre  UF Capital RM_RIDE        UPA  Estrato V1008 V1014  \\\n",
      "0       2021         4  11      11     NaN  110000016  1110011    01    09   \n",
      "1       2021         4  11      11     NaN  110000016  1110011    01    09   \n",
      "2       2021         4  11      11     NaN  110000016  1110011    01    09   \n",
      "3       2021         4  11      11     NaN  110000016  1110011    01    09   \n",
      "4       2021         4  11      11     NaN  110000016  1110011    01    09   \n",
      "...      ...       ...  ..     ...     ...        ...      ...   ...   ...   \n",
      "461790  2021         4  53      53     NaN  530059517  5310211    11    09   \n",
      "461791  2021         4  53      53     NaN  530059517  5310211    14    09   \n",
      "461792  2021         4  53      53     NaN  530059517  5310211    14    09   \n",
      "461793  2021         4  53      53     NaN  530059517  5310211    14    09   \n",
      "461794  2021         4  53      53     NaN  530059517  5310211    14    09   \n",
      "\n",
      "       V1016  ...         V1028191         V1028192         V1028193  \\\n",
      "0          2  ...  000123.32203203  000000.00000000  000000.00000000   \n",
      "1          2  ...  000123.32203203  000000.00000000  000000.00000000   \n",
      "2          2  ...  000123.32203203  000000.00000000  000000.00000000   \n",
      "3          2  ...  000123.32203203  000000.00000000  000000.00000000   \n",
      "4          2  ...  000123.32203203  000000.00000000  000000.00000000   \n",
      "...      ...  ...              ...              ...              ...   \n",
      "461790     1  ...  000000.00000000  000446.27982676  000389.64134522   \n",
      "461791     1  ...  000000.00000000  000433.58285571  000388.58783187   \n",
      "461792     1  ...  000000.00000000  000433.58285571  000388.58783187   \n",
      "461793     1  ...  000000.00000000  000433.58285571  000388.58783187   \n",
      "461794     1  ...  000000.00000000  000433.58285571  000388.58783187   \n",
      "\n",
      "               V1028194         V1028195         V1028196         V1028197  \\\n",
      "0       000000.00000000  000000.00000000  000128.81247481  000000.00000000   \n",
      "1       000000.00000000  000000.00000000  000128.81247481  000000.00000000   \n",
      "2       000000.00000000  000000.00000000  000128.81247481  000000.00000000   \n",
      "3       000000.00000000  000000.00000000  000128.81247481  000000.00000000   \n",
      "4       000000.00000000  000000.00000000  000128.81247481  000000.00000000   \n",
      "...                 ...              ...              ...              ...   \n",
      "461790  000455.17252196  000414.83616642  000000.00000000  000419.14591922   \n",
      "461791  000434.01586504  000399.90265461  000000.00000000  000408.47134368   \n",
      "461792  000434.01586504  000399.90265461  000000.00000000  000408.47134368   \n",
      "461793  000434.01586504  000399.90265461  000000.00000000  000408.47134368   \n",
      "461794  000434.01586504  000399.90265461  000000.00000000  000408.47134368   \n",
      "\n",
      "               V1028198         V1028199         V1028200  \n",
      "0       000000.00000000  000136.85093726  000000.00000000  \n",
      "1       000000.00000000  000136.85093726  000000.00000000  \n",
      "2       000000.00000000  000136.85093726  000000.00000000  \n",
      "3       000000.00000000  000136.85093726  000000.00000000  \n",
      "4       000000.00000000  000136.85093726  000000.00000000  \n",
      "...                 ...              ...              ...  \n",
      "461790  001306.10429085  000000.00000000  000000.00000000  \n",
      "461791  001268.15087244  000000.00000000  000000.00000000  \n",
      "461792  001268.15087244  000000.00000000  000000.00000000  \n",
      "461793  001268.15087244  000000.00000000  000000.00000000  \n",
      "461794  001268.15087244  000000.00000000  000000.00000000  \n",
      "\n",
      "[461795 rows x 420 columns]\n"
     ]
    }
   ],
   "source": [
    "# Selecionando a variável tamanho do dicionário e excluindo os NA, depois transformando em inteiros, em seguida transformando numa lista.\n",
    "tamanho_sem_na = dicionario['Tamanho'].dropna().astype(int).tolist()\n",
    "\n",
    "## Definindo caminho relativo de dados da PNAD\n",
    "pnad_path = data_folder / \"PNADC_042021.txt\"\n",
    "\n",
    "## Importando os dados da PNAD.\n",
    "pnad2021 = pd.read_fwf(pnad_path, header = None, widths=tamanho_sem_na, \n",
    "                       dtype=str, float_format=\"%.2f\")\n",
    "\n",
    "## pegando o código da variável no dicionário e excluindo os Na's\n",
    "codigo = dicionario['Código\\nda\\nvariável'].dropna()     \n",
    "\n",
    "## Colocando o código da variável como nome da coluna\n",
    "pnad2021 = pnad2021.rename(columns=dict(zip(pnad2021.columns, codigo)))\n",
    "\n",
    "# Printando a pnad2021\n",
    "print(pnad2021)\n"
   ]
  },
  {
   "attachments": {},
   "cell_type": "markdown",
   "metadata": {},
   "source": [
    "Agora, vou realizar uma estimativa amostral do número de pessoas em cada unidade federativa, levando em consideração os pesos amostrais. A variável V1028 é o peso amostral na PNADc. O resultado final abaixo é a estimativa amostral da população por unidade federativa. "
   ]
  },
  {
   "cell_type": "code",
   "execution_count": 38,
   "metadata": {},
   "outputs": [
    {
     "name": "stdout",
     "output_type": "stream",
     "text": [
      "    UF   população\n",
      "0   RO   1811173.0\n",
      "1   AC    894396.0\n",
      "2   AM   4125630.0\n",
      "3   RR    578207.0\n",
      "4   PA   8766892.0\n",
      "5   AP    874822.0\n",
      "6   TO   1600098.0\n",
      "7   MA   7131998.0\n",
      "8   PI   3291002.0\n",
      "9   CE   9256370.0\n",
      "10  RN   3570927.0\n",
      "11  PB   4044899.0\n",
      "12  PE   9637284.0\n",
      "13  AL   3363296.0\n",
      "14  SE   2345379.0\n",
      "15  BA  14983546.0\n",
      "16  MG  21442564.0\n",
      "17  ES   4120396.0\n",
      "18  RJ  17494589.0\n",
      "19  SP  46770241.0\n",
      "20  PR  11612238.0\n",
      "21  SC   7356905.0\n",
      "22  RS  11462947.0\n",
      "23  MS   2778362.0\n",
      "24  MT   3526243.0\n",
      "25  GO   7242075.0\n",
      "26  DF   3105838.0\n"
     ]
    }
   ],
   "source": [
    "## Covertendno 'V1028' em float. V1028 é o peso \n",
    "pnad2021['V1028'] = pnad2021['V1028'].astype(float)\n",
    "\n",
    "# Agrupar os dados por UF e somar os valores de V1028 correspondentes\n",
    "soma_v1028_uf = pnad2021.groupby('UF')['V1028'].sum()\n",
    "\n",
    "# Convertendo a série em um data frame e renomeando a coluna\n",
    "pop_total = soma_v1028_uf.to_frame(name='população').reset_index().\\\n",
    "    rename(columns={'index': 'UF'})\n",
    "\n",
    "# criar um dicionário de mapeamento com as chaves em formato de strings\n",
    "uf_map = {\n",
    "    '11': 'RO',\n",
    "    '12': 'AC',\n",
    "    '13': 'AM',\n",
    "    '14': 'RR',\n",
    "    '15': 'PA',\n",
    "    '16': 'AP',\n",
    "    '17': 'TO',\n",
    "    '21': 'MA',\n",
    "    '22': 'PI',\n",
    "    '23': 'CE',\n",
    "    '24': 'RN',\n",
    "    '25': 'PB',\n",
    "    '26': 'PE',\n",
    "    '27': 'AL',\n",
    "    '28': 'SE',\n",
    "    '29': 'BA',\n",
    "    '31': 'MG',\n",
    "    '32': 'ES',\n",
    "    '33': 'RJ',\n",
    "    '35': 'SP',\n",
    "    '41': 'PR',\n",
    "    '42': 'SC',\n",
    "    '43': 'RS',\n",
    "    '50': 'MS',\n",
    "    '51': 'MT',\n",
    "    '52': 'GO',\n",
    "    '53': 'DF'\n",
    "}\n",
    "\n",
    "# Aplicando o mapeamento à coluna UF\n",
    "pop_total['UF'] = pop_total['UF'].map(uf_map)\n",
    "\n",
    "## arredondando os números de população e também tirando o 0.\n",
    "pop_total['população'] = pop_total['população'].round(2).apply(lambda x: x[1:] if str(x).startswith('0') else x)\n",
    "\n",
    "## Printando a população total estimada  \n",
    "print(pop_total)\n"
   ]
  },
  {
   "attachments": {},
   "cell_type": "markdown",
   "metadata": {},
   "source": [
    "Agora farei uma estimativa amostral de domicilios por unidade federativa utilizando o peso amostral. O resultado final abaixo é a estimativa amostral de domicílios por unidade federativa.  "
   ]
  },
  {
   "cell_type": "code",
   "execution_count": 39,
   "metadata": {},
   "outputs": [
    {
     "name": "stdout",
     "output_type": "stream",
     "text": [
      "    UF        V1028\n",
      "0   RO    628164.21\n",
      "1   AC    269118.41\n",
      "2   AM   1102468.67\n",
      "3   RR    166456.45\n",
      "4   PA   2586373.98\n",
      "5   AP    246154.85\n",
      "6   TO    524667.75\n",
      "7   MA   2082838.89\n",
      "8   PI   1025685.34\n",
      "9   CE   3016222.18\n",
      "10  RN   1167102.77\n",
      "11  PB   1316365.69\n",
      "12  PE   3231419.25\n",
      "13  AL   1075138.15\n",
      "14  SE    796790.00\n",
      "15  BA   5156899.65\n",
      "16  MG   7527204.85\n",
      "17  ES   1462988.08\n",
      "18  RJ   6546788.99\n",
      "19  SP  16342583.68\n",
      "20  PR   4066076.55\n",
      "21  SC   2580998.51\n",
      "22  RS   4337210.43\n",
      "23  MS    950550.40\n",
      "24  MT   1179946.31\n",
      "25  GO   2496430.74\n",
      "26  DF   1017831.68\n"
     ]
    }
   ],
   "source": [
    "## filtrando para para o chefe do domicílio. Para descobrir a quantidade de domicílios\n",
    "domic_uf = pnad2021.query('V2005 == \"01\"').groupby('UF')['V1028'].sum()\n",
    "\n",
    "##transformadno em data frame \n",
    "dom_total = domic_uf.to_frame().reset_index().rename(columns={'index': 'UF', 0: 'domic_uf'})\n",
    "\n",
    "# Aplicando o mapeamento à coluna UF\n",
    "dom_total['UF'] = dom_total['UF'].map(uf_map)\n",
    "\n",
    "## arredondando os números de população e também tirando o 0.\n",
    "dom_total['V1028'] = dom_total['V1028'].round(2).apply(lambda x: x[1:] if str(x).startswith('0') else x)\n",
    "\n",
    "## Printando domicilio total estimado \n",
    "print(dom_total)\n"
   ]
  }
 ],
 "metadata": {
  "kernelspec": {
   "display_name": "Python 3",
   "language": "python",
   "name": "python3"
  },
  "language_info": {
   "codemirror_mode": {
    "name": "ipython",
    "version": 3
   },
   "file_extension": ".py",
   "mimetype": "text/x-python",
   "name": "python",
   "nbconvert_exporter": "python",
   "pygments_lexer": "ipython3",
   "version": "3.11.0"
  },
  "orig_nbformat": 4
 },
 "nbformat": 4,
 "nbformat_minor": 2
}
